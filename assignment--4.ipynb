{
 "cells": [
  {
   "cell_type": "markdown",
   "id": "35460ac8",
   "metadata": {},
   "source": [
    "# Write a Python program to create a lambda function that adds 25 to a given number passed in as an argument."
   ]
  },
  {
   "cell_type": "code",
   "execution_count": 2,
   "id": "c204c675",
   "metadata": {},
   "outputs": [
    {
     "name": "stdout",
     "output_type": "stream",
     "text": [
      "enter the number,23\n",
      "48\n"
     ]
    }
   ],
   "source": [
    "add= lambda s : s + 25\n",
    "print(add(int(input('enter the number,'))))\n"
   ]
  },
  {
   "cell_type": "markdown",
   "id": "ad70c407",
   "metadata": {},
   "source": [
    "# Write a Python program to triple all numbers of a given list of integers. Use Python map"
   ]
  },
  {
   "cell_type": "code",
   "execution_count": 9,
   "id": "ad4caa92",
   "metadata": {},
   "outputs": [
    {
     "name": "stdout",
     "output_type": "stream",
     "text": [
      "enter the list of integers,1 2 3 4 5\n",
      "[3, 6, 9, 12, 15]\n"
     ]
    }
   ],
   "source": [
    "z = list(map(int,input('enter the list of integers,').split(' ')))\n",
    "s = list(map(lambda x:x*3,z))\n",
    "print(s)"
   ]
  },
  {
   "cell_type": "markdown",
   "id": "801611e9",
   "metadata": {},
   "source": [
    "# Write a Python program to square the elements of a list using map() function."
   ]
  },
  {
   "cell_type": "code",
   "execution_count": null,
   "id": "c2993ba7",
   "metadata": {},
   "outputs": [],
   "source": [
    "def task(i):\n",
    "    return i*i\n",
    "l=list(map(int,input().split(' ')))\n",
    "list(map(task,l))"
   ]
  },
  {
   "cell_type": "markdown",
   "id": "e604dbda",
   "metadata": {},
   "source": [
    "### same solution using lamda"
   ]
  },
  {
   "cell_type": "code",
   "execution_count": 1,
   "id": "93c08c81",
   "metadata": {},
   "outputs": [
    {
     "name": "stdout",
     "output_type": "stream",
     "text": [
      "enter the list,1 2 3 45 67 89\n",
      "[1, 4, 9, 2025, 4489, 7921]\n"
     ]
    }
   ],
   "source": [
    "z = list(map(int,input('enter the list,').split(' ')))\n",
    "s = list(map(lambda x:x**2,z))\n",
    "print(s)"
   ]
  },
  {
   "cell_type": "code",
   "execution_count": null,
   "id": "f6c6c176",
   "metadata": {},
   "outputs": [],
   "source": []
  }
 ],
 "metadata": {
  "kernelspec": {
   "display_name": "Python 3",
   "language": "python",
   "name": "python3"
  },
  "language_info": {
   "codemirror_mode": {
    "name": "ipython",
    "version": 3
   },
   "file_extension": ".py",
   "mimetype": "text/x-python",
   "name": "python",
   "nbconvert_exporter": "python",
   "pygments_lexer": "ipython3",
   "version": "3.8.8"
  }
 },
 "nbformat": 4,
 "nbformat_minor": 5
}
