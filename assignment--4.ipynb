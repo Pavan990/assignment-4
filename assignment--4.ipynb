{
 "cells": [
  {
   "cell_type": "markdown",
   "id": "35460ac8",
   "metadata": {},
   "source": [
    "# Write a Python program to create a lambda function that adds 25 to a given number passed in as an argument."
   ]
  },
  {
   "cell_type": "code",
   "execution_count": null,
   "id": "c204c675",
   "metadata": {},
   "outputs": [],
   "source": [
    "p = lambda s : s + 25\n",
    "print(p(int(input())))\n"
   ]
  },
  {
   "cell_type": "markdown",
   "id": "ad70c407",
   "metadata": {},
   "source": [
    "# Write a Python program to triple all numbers of a given list of integers. Use Python map"
   ]
  },
  {
   "cell_type": "code",
   "execution_count": 1,
   "id": "ad4caa92",
   "metadata": {},
   "outputs": [
    {
     "name": "stdout",
     "output_type": "stream",
     "text": [
      "5 6 8 9\n",
      "[15, 18, 24, 27]\n"
     ]
    }
   ],
   "source": [
    "z = list(map(int,input().split(' ')))\n",
    "s = list(map(lambda x: x + x + x, z))\n",
    "print(s)"
   ]
  },
  {
   "cell_type": "markdown",
   "id": "be5b628a",
   "metadata": {},
   "source": [
    "# Write a Python program to square the elements of a list using map() function."
   ]
  },
  {
   "cell_type": "code",
   "execution_count": 2,
   "id": "c2993ba7",
   "metadata": {},
   "outputs": [
    {
     "name": "stdout",
     "output_type": "stream",
     "text": [
      "1 2 3 4 5\n"
     ]
    },
    {
     "data": {
      "text/plain": [
       "[1, 4, 9, 16, 25]"
      ]
     },
     "execution_count": 2,
     "metadata": {},
     "output_type": "execute_result"
    }
   ],
   "source": [
    "def task(i):\n",
    "    return i*i\n",
    "l=list(map(int,input().split(' ')))\n",
    "list(map(task,l))"
   ]
  },
  {
   "cell_type": "code",
   "execution_count": null,
   "id": "479e001d",
   "metadata": {},
   "outputs": [],
   "source": []
  }
 ],
 "metadata": {
  "kernelspec": {
   "display_name": "Python 3",
   "language": "python",
   "name": "python3"
  },
  "language_info": {
   "codemirror_mode": {
    "name": "ipython",
    "version": 3
   },
   "file_extension": ".py",
   "mimetype": "text/x-python",
   "name": "python",
   "nbconvert_exporter": "python",
   "pygments_lexer": "ipython3",
   "version": "3.8.8"
  }
 },
 "nbformat": 4,
 "nbformat_minor": 5
}
